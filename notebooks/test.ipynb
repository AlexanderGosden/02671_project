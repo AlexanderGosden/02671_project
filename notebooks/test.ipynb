{
 "cells": [
  {
   "cell_type": "code",
   "execution_count": 36,
   "metadata": {},
   "outputs": [
    {
     "name": "stdout",
     "output_type": "stream",
     "text": [
      "100\n"
     ]
    },
    {
     "ename": "IndexError",
     "evalue": "only integers, slices (`:`), ellipsis (`...`), numpy.newaxis (`None`) and integer or boolean arrays are valid indices",
     "output_type": "error",
     "traceback": [
      "\u001b[0;31m---------------------------------------------------------------------------\u001b[0m",
      "\u001b[0;31mIndexError\u001b[0m                                Traceback (most recent call last)",
      "Cell \u001b[0;32mIn[36], line 30\u001b[0m\n\u001b[1;32m     24\u001b[0m     im[\u001b[38;5;28mint\u001b[39m(y_start):\u001b[38;5;28mint\u001b[39m(y_end), \u001b[38;5;28mint\u001b[39m(x_start):\u001b[38;5;28mint\u001b[39m(x_end)] \u001b[38;5;241m=\u001b[39m \u001b[38;5;241m255\u001b[39m\n\u001b[1;32m     27\u001b[0m     \u001b[38;5;28;01mreturn\u001b[39;00m im\n\u001b[0;32m---> 30\u001b[0m video \u001b[38;5;241m=\u001b[39m np\u001b[38;5;241m.\u001b[39marray(\u001b[43m[\u001b[49m\u001b[43mboximage\u001b[49m\u001b[43m(\u001b[49m\u001b[43mi\u001b[49m\u001b[43m,\u001b[49m\u001b[43m \u001b[49m\u001b[43mi\u001b[49m\u001b[43m)\u001b[49m\u001b[43m \u001b[49m\u001b[38;5;28;43;01mfor\u001b[39;49;00m\u001b[43m \u001b[49m\u001b[43mi\u001b[49m\u001b[43m \u001b[49m\u001b[38;5;129;43;01min\u001b[39;49;00m\u001b[43m \u001b[49m\u001b[43mnp\u001b[49m\u001b[38;5;241;43m.\u001b[39;49m\u001b[43marange\u001b[49m\u001b[43m(\u001b[49m\u001b[38;5;241;43m0\u001b[39;49m\u001b[43m,\u001b[49m\u001b[43m \u001b[49m\u001b[38;5;241;43m50\u001b[39;49m\u001b[43m,\u001b[49m\u001b[43m \u001b[49m\u001b[38;5;241;43m0.5\u001b[39;49m\u001b[43m)\u001b[49m\u001b[43m]\u001b[49m)\n\u001b[1;32m     32\u001b[0m \u001b[38;5;66;03m#animate video with matplotlib.funcanimation\u001b[39;00m\n\u001b[1;32m     33\u001b[0m \u001b[38;5;28;01mdef\u001b[39;00m \u001b[38;5;21manimate_video\u001b[39m(video):\n",
      "Cell \u001b[0;32mIn[36], line 30\u001b[0m, in \u001b[0;36m<listcomp>\u001b[0;34m(.0)\u001b[0m\n\u001b[1;32m     24\u001b[0m     im[\u001b[38;5;28mint\u001b[39m(y_start):\u001b[38;5;28mint\u001b[39m(y_end), \u001b[38;5;28mint\u001b[39m(x_start):\u001b[38;5;28mint\u001b[39m(x_end)] \u001b[38;5;241m=\u001b[39m \u001b[38;5;241m255\u001b[39m\n\u001b[1;32m     27\u001b[0m     \u001b[38;5;28;01mreturn\u001b[39;00m im\n\u001b[0;32m---> 30\u001b[0m video \u001b[38;5;241m=\u001b[39m np\u001b[38;5;241m.\u001b[39marray([\u001b[43mboximage\u001b[49m\u001b[43m(\u001b[49m\u001b[43mi\u001b[49m\u001b[43m,\u001b[49m\u001b[43m \u001b[49m\u001b[43mi\u001b[49m\u001b[43m)\u001b[49m \u001b[38;5;28;01mfor\u001b[39;00m i \u001b[38;5;129;01min\u001b[39;00m np\u001b[38;5;241m.\u001b[39marange(\u001b[38;5;241m0\u001b[39m, \u001b[38;5;241m50\u001b[39m, \u001b[38;5;241m0.5\u001b[39m)])\n\u001b[1;32m     32\u001b[0m \u001b[38;5;66;03m#animate video with matplotlib.funcanimation\u001b[39;00m\n\u001b[1;32m     33\u001b[0m \u001b[38;5;28;01mdef\u001b[39;00m \u001b[38;5;21manimate_video\u001b[39m(video):\n",
      "Cell \u001b[0;32mIn[36], line 19\u001b[0m, in \u001b[0;36mboximage\u001b[0;34m(radius_x, radius_y, width, height, center)\u001b[0m\n\u001b[1;32m     16\u001b[0m x_end \u001b[38;5;241m=\u001b[39m \u001b[38;5;28mmin\u001b[39m(center[\u001b[38;5;241m1\u001b[39m]\u001b[38;5;241m+\u001b[39mradius_x, width)\n\u001b[1;32m     18\u001b[0m \u001b[38;5;28mprint\u001b[39m(np\u001b[38;5;241m.\u001b[39mfloor(y_start)\u001b[38;5;241m.\u001b[39mastype(\u001b[38;5;28mint\u001b[39m))\n\u001b[0;32m---> 19\u001b[0m \u001b[43mim\u001b[49m\u001b[43m[\u001b[49m\u001b[43mnp\u001b[49m\u001b[38;5;241;43m.\u001b[39;49m\u001b[43mfloor\u001b[49m\u001b[43m(\u001b[49m\u001b[43my_start\u001b[49m\u001b[43m)\u001b[49m\u001b[43m,\u001b[49m\u001b[43m:\u001b[49m\u001b[43m]\u001b[49m \u001b[38;5;241m=\u001b[39m \u001b[38;5;241m255\u001b[39m\u001b[38;5;241m*\u001b[39m(y_start \u001b[38;5;241m-\u001b[39m np\u001b[38;5;241m.\u001b[39mfloor(y_start))\n\u001b[1;32m     20\u001b[0m im[np\u001b[38;5;241m.\u001b[39mceil(y_end), \u001b[38;5;28mint\u001b[39m(x_start):\u001b[38;5;28mint\u001b[39m(x_end)] \u001b[38;5;241m=\u001b[39m \u001b[38;5;241m255\u001b[39m\u001b[38;5;241m*\u001b[39m(np\u001b[38;5;241m.\u001b[39mceil(y_end) \u001b[38;5;241m-\u001b[39m y_end)\n\u001b[1;32m     21\u001b[0m im[\u001b[38;5;28mint\u001b[39m(y_start):\u001b[38;5;28mint\u001b[39m(y_end), np\u001b[38;5;241m.\u001b[39mfloor(x_start)] \u001b[38;5;241m=\u001b[39m \u001b[38;5;241m255\u001b[39m\u001b[38;5;241m*\u001b[39m(x_start \u001b[38;5;241m-\u001b[39m np\u001b[38;5;241m.\u001b[39mfloor(x_start))\n",
      "\u001b[0;31mIndexError\u001b[0m: only integers, slices (`:`), ellipsis (`...`), numpy.newaxis (`None`) and integer or boolean arrays are valid indices"
     ]
    }
   ],
   "source": [
    "import numpy as np\n",
    "import matplotlib.pyplot as plt\n",
    "import matplotlib.animation as animation\n",
    "from math import floor, ceil\n",
    "\n",
    "\n",
    "def boximage(radius_x, radius_y, width = 200, height = 200, center = None):\n",
    "    if center is None:\n",
    "        center = (width//2, height//2)\n",
    "\n",
    "    im = np.zeros((height, width, 1), dtype=np.uint8)\n",
    "\n",
    "    y_start = max(center[0]-radius_y, 0)\n",
    "    y_end = min(center[0]+radius_y, height)\n",
    "    \n",
    "    x_start = max(center[1]-radius_x, 0)\n",
    "    x_end = min(center[1]+radius_x, width)\n",
    "\n",
    "    \n",
    "    im[floor(y_start), int(x_start):int(x_end)] = 255*(y_start - floor(y_start))\n",
    "    im[np.ceil(y_end), int(x_start):int(x_end)] = 255*(np.ceil(y_end) - y_end)\n",
    "    im[int(y_start):int(y_end), np.floor(x_start)] = 255*(x_start - np.floor(x_start))\n",
    "    im[int(y_start):int(y_end), np.ceil(x_end)] = 255*(np.ceil(x_end) - x_end)\n",
    "\n",
    "    im[int(y_start):int(y_end), int(x_start):int(x_end)] = 255\n",
    "    \n",
    "\n",
    "    return im\n",
    "\n",
    "\n",
    "video = np.array([boximage(i, i) for i in np.arange(0, 50, 0.5)])\n",
    "\n",
    "#animate video with matplotlib.funcanimation\n",
    "def animate_video(video):\n",
    "    %matplotlib tk\n",
    "\n",
    "    fig, ax = plt.subplots(1, 1, figsize=(5, 10))\n",
    "\n",
    "    def animate(frame):\n",
    "        ax.clear()\n",
    "        ax.imshow(video[frame])\n",
    "        ax.set_title(f'Frame {frame}')\n",
    "\n",
    "    ani = animation.FuncAnimation(fig, animate, frames=range(len(video)), interval=10)\n",
    "\n",
    "    return ani\n",
    "\n",
    "ani = animate_video(video)\n"
   ]
  },
  {
   "cell_type": "code",
   "execution_count": 26,
   "metadata": {},
   "outputs": [
    {
     "name": "stdout",
     "output_type": "stream",
     "text": [
      "Model: \"sequential_9\"\n",
      "_________________________________________________________________\n",
      " Layer (type)                Output Shape              Param #   \n",
      "=================================================================\n",
      " conv2d_8 (Conv2D)           (None, 200, 200, 3)       30        \n",
      "                                                                 \n",
      " flatten_4 (Flatten)         (None, 120000)            0         \n",
      "                                                                 \n",
      " dense_12 (Dense)            (None, 100)               12000100  \n",
      "                                                                 \n",
      " dense_13 (Dense)            (None, 2)                 202       \n",
      "                                                                 \n",
      " dense_14 (Dense)            (None, 100)               300       \n",
      "                                                                 \n",
      " dense_15 (Dense)            (None, 40000)             4040000   \n",
      "                                                                 \n",
      " reshape_4 (Reshape)         (None, 200, 200)          0         \n",
      "                                                                 \n",
      "=================================================================\n",
      "Total params: 16,040,632\n",
      "Trainable params: 16,040,632\n",
      "Non-trainable params: 0\n",
      "_________________________________________________________________\n"
     ]
    }
   ],
   "source": [
    "#autoencoder\n",
    "import keras\n",
    "from keras.models import Sequential\n",
    "\n",
    "from keras.layers import Conv2D, MaxPooling2D, UpSampling2D, Dense, Flatten, Reshape\n",
    "\n",
    "model = Sequential()\n",
    "model.add(Conv2D(3, (3, 3), activation='relu', padding='same', input_shape=(200, 200, 1)))\n",
    "model.add(Flatten())\n",
    "model.add(Dense(100))\n",
    "model.add(Dense(2))\n",
    "model.add(Dense(100))\n",
    "model.add(Dense(200*200))\n",
    "model.add(Reshape((200, 200)))\n",
    "model.compile(optimizer='adam', loss='mean_squared_error')\n",
    "\n",
    "model.summary()"
   ]
  },
  {
   "cell_type": "code",
   "execution_count": 27,
   "metadata": {},
   "outputs": [
    {
     "name": "stdout",
     "output_type": "stream",
     "text": [
      "Epoch 1/100\n",
      "2/2 [==============================] - 0s 70ms/step - loss: 0.1193\n",
      "Epoch 2/100\n",
      "2/2 [==============================] - 0s 46ms/step - loss: 0.1195\n",
      "Epoch 3/100\n",
      "2/2 [==============================] - 0s 62ms/step - loss: 0.0990\n",
      "Epoch 4/100\n",
      "2/2 [==============================] - 0s 55ms/step - loss: 0.0552\n",
      "Epoch 5/100\n",
      "2/2 [==============================] - 0s 51ms/step - loss: 0.0415\n",
      "Epoch 6/100\n",
      "2/2 [==============================] - 0s 46ms/step - loss: 0.0301\n",
      "Epoch 7/100\n",
      "2/2 [==============================] - 0s 48ms/step - loss: 0.0280\n",
      "Epoch 8/100\n",
      "2/2 [==============================] - 0s 49ms/step - loss: 0.0296\n",
      "Epoch 9/100\n",
      "2/2 [==============================] - 0s 46ms/step - loss: 0.0406\n",
      "Epoch 10/100\n",
      "2/2 [==============================] - 0s 55ms/step - loss: 0.0509\n",
      "Epoch 11/100\n",
      "2/2 [==============================] - 0s 49ms/step - loss: 0.0366\n",
      "Epoch 12/100\n",
      "2/2 [==============================] - 0s 44ms/step - loss: 0.0292\n",
      "Epoch 13/100\n",
      "2/2 [==============================] - 0s 46ms/step - loss: 0.0230\n",
      "Epoch 14/100\n",
      "2/2 [==============================] - 0s 56ms/step - loss: 0.0264\n",
      "Epoch 15/100\n",
      "2/2 [==============================] - 0s 48ms/step - loss: 0.0270\n",
      "Epoch 16/100\n",
      "2/2 [==============================] - 0s 59ms/step - loss: 0.0208\n",
      "Epoch 17/100\n",
      "2/2 [==============================] - 0s 44ms/step - loss: 0.0185\n",
      "Epoch 18/100\n",
      "2/2 [==============================] - 0s 44ms/step - loss: 0.0241\n",
      "Epoch 19/100\n",
      "2/2 [==============================] - 0s 44ms/step - loss: 0.0162\n",
      "Epoch 20/100\n",
      "2/2 [==============================] - 0s 51ms/step - loss: 0.0165\n",
      "Epoch 21/100\n",
      "2/2 [==============================] - 0s 47ms/step - loss: 0.0171\n",
      "Epoch 22/100\n",
      "2/2 [==============================] - 0s 48ms/step - loss: 0.0138\n",
      "Epoch 23/100\n",
      "2/2 [==============================] - 0s 49ms/step - loss: 0.0161\n",
      "Epoch 24/100\n",
      "2/2 [==============================] - 0s 49ms/step - loss: 0.0129\n",
      "Epoch 25/100\n",
      "2/2 [==============================] - 0s 46ms/step - loss: 0.0143\n",
      "Epoch 26/100\n",
      "2/2 [==============================] - 0s 41ms/step - loss: 0.0121\n",
      "Epoch 27/100\n",
      "2/2 [==============================] - 0s 48ms/step - loss: 0.0119\n",
      "Epoch 28/100\n",
      "2/2 [==============================] - 0s 43ms/step - loss: 0.0122\n",
      "Epoch 29/100\n",
      "2/2 [==============================] - 0s 46ms/step - loss: 0.0109\n",
      "Epoch 30/100\n",
      "2/2 [==============================] - 0s 43ms/step - loss: 0.0117\n",
      "Epoch 31/100\n",
      "2/2 [==============================] - 0s 43ms/step - loss: 0.0108\n",
      "Epoch 32/100\n",
      "2/2 [==============================] - 0s 47ms/step - loss: 0.0110\n",
      "Epoch 33/100\n",
      "2/2 [==============================] - 0s 47ms/step - loss: 0.0109\n",
      "Epoch 34/100\n",
      "2/2 [==============================] - 0s 41ms/step - loss: 0.0105\n",
      "Epoch 35/100\n",
      "2/2 [==============================] - 0s 47ms/step - loss: 0.0109\n",
      "Epoch 36/100\n",
      "2/2 [==============================] - 0s 48ms/step - loss: 0.0107\n",
      "Epoch 37/100\n",
      "2/2 [==============================] - 0s 41ms/step - loss: 0.0105\n",
      "Epoch 38/100\n",
      "2/2 [==============================] - 0s 41ms/step - loss: 0.0106\n",
      "Epoch 39/100\n",
      "2/2 [==============================] - 0s 40ms/step - loss: 0.0105\n",
      "Epoch 40/100\n",
      "2/2 [==============================] - 0s 44ms/step - loss: 0.0104\n",
      "Epoch 41/100\n",
      "2/2 [==============================] - 0s 44ms/step - loss: 0.0103\n",
      "Epoch 42/100\n",
      "2/2 [==============================] - 0s 41ms/step - loss: 0.0103\n",
      "Epoch 43/100\n",
      "2/2 [==============================] - 0s 43ms/step - loss: 0.0103\n",
      "Epoch 44/100\n",
      "2/2 [==============================] - 0s 46ms/step - loss: 0.0103\n",
      "Epoch 45/100\n",
      "2/2 [==============================] - 0s 44ms/step - loss: 0.0103\n",
      "Epoch 46/100\n",
      "2/2 [==============================] - 0s 41ms/step - loss: 0.0102\n",
      "Epoch 47/100\n",
      "2/2 [==============================] - 0s 48ms/step - loss: 0.0102\n",
      "Epoch 48/100\n",
      "2/2 [==============================] - 0s 41ms/step - loss: 0.0102\n",
      "Epoch 49/100\n",
      "2/2 [==============================] - 0s 42ms/step - loss: 0.0102\n",
      "Epoch 50/100\n",
      "2/2 [==============================] - 0s 42ms/step - loss: 0.0102\n",
      "Epoch 51/100\n",
      "2/2 [==============================] - 0s 44ms/step - loss: 0.0102\n",
      "Epoch 52/100\n",
      "2/2 [==============================] - 0s 39ms/step - loss: 0.0102\n",
      "Epoch 53/100\n",
      "2/2 [==============================] - 0s 45ms/step - loss: 0.0102\n",
      "Epoch 54/100\n",
      "2/2 [==============================] - 0s 47ms/step - loss: 0.0102\n",
      "Epoch 55/100\n",
      "2/2 [==============================] - 0s 44ms/step - loss: 0.0101\n",
      "Epoch 56/100\n",
      "2/2 [==============================] - 0s 41ms/step - loss: 0.0102\n",
      "Epoch 57/100\n",
      "2/2 [==============================] - 0s 41ms/step - loss: 0.0101\n",
      "Epoch 58/100\n",
      "2/2 [==============================] - 0s 42ms/step - loss: 0.0101\n",
      "Epoch 59/100\n",
      "2/2 [==============================] - 0s 44ms/step - loss: 0.0101\n",
      "Epoch 60/100\n",
      "2/2 [==============================] - 0s 44ms/step - loss: 0.0101\n",
      "Epoch 61/100\n",
      "2/2 [==============================] - 0s 43ms/step - loss: 0.0101\n",
      "Epoch 62/100\n",
      "2/2 [==============================] - 0s 42ms/step - loss: 0.0101\n",
      "Epoch 63/100\n",
      "2/2 [==============================] - 0s 43ms/step - loss: 0.0101\n",
      "Epoch 64/100\n",
      "2/2 [==============================] - 0s 45ms/step - loss: 0.0101\n",
      "Epoch 65/100\n",
      "2/2 [==============================] - 0s 46ms/step - loss: 0.0101\n",
      "Epoch 66/100\n",
      "2/2 [==============================] - 0s 44ms/step - loss: 0.0101\n",
      "Epoch 67/100\n",
      "2/2 [==============================] - 0s 44ms/step - loss: 0.0101\n",
      "Epoch 68/100\n",
      "2/2 [==============================] - 0s 47ms/step - loss: 0.0101\n",
      "Epoch 69/100\n",
      "2/2 [==============================] - 0s 45ms/step - loss: 0.0100\n",
      "Epoch 70/100\n",
      "2/2 [==============================] - 0s 62ms/step - loss: 0.0100\n",
      "Epoch 71/100\n",
      "2/2 [==============================] - 0s 49ms/step - loss: 0.0101\n",
      "Epoch 72/100\n",
      "2/2 [==============================] - 0s 46ms/step - loss: 0.0101\n",
      "Epoch 73/100\n",
      "2/2 [==============================] - 0s 45ms/step - loss: 0.0101\n",
      "Epoch 74/100\n",
      "2/2 [==============================] - 0s 46ms/step - loss: 0.0100\n",
      "Epoch 75/100\n",
      "2/2 [==============================] - 0s 48ms/step - loss: 0.0100\n",
      "Epoch 76/100\n",
      "2/2 [==============================] - 0s 44ms/step - loss: 0.0100\n",
      "Epoch 77/100\n",
      "2/2 [==============================] - 0s 42ms/step - loss: 0.0100\n",
      "Epoch 78/100\n",
      "2/2 [==============================] - 0s 44ms/step - loss: 0.0100\n",
      "Epoch 79/100\n",
      "2/2 [==============================] - 0s 46ms/step - loss: 0.0100\n",
      "Epoch 80/100\n",
      "2/2 [==============================] - 0s 41ms/step - loss: 0.0100\n",
      "Epoch 81/100\n",
      "2/2 [==============================] - 0s 45ms/step - loss: 0.0100\n",
      "Epoch 82/100\n",
      "2/2 [==============================] - 0s 43ms/step - loss: 0.0100\n",
      "Epoch 83/100\n",
      "2/2 [==============================] - 0s 44ms/step - loss: 0.0100\n",
      "Epoch 84/100\n",
      "2/2 [==============================] - 0s 43ms/step - loss: 0.0100\n",
      "Epoch 85/100\n",
      "2/2 [==============================] - 0s 41ms/step - loss: 0.0100\n",
      "Epoch 86/100\n",
      "2/2 [==============================] - 0s 44ms/step - loss: 0.0100\n",
      "Epoch 87/100\n",
      "2/2 [==============================] - 0s 46ms/step - loss: 0.0100\n",
      "Epoch 88/100\n",
      "2/2 [==============================] - 0s 50ms/step - loss: 0.0100\n",
      "Epoch 89/100\n",
      "2/2 [==============================] - 0s 45ms/step - loss: 0.0100\n",
      "Epoch 90/100\n",
      "2/2 [==============================] - 0s 46ms/step - loss: 0.0100\n",
      "Epoch 91/100\n",
      "2/2 [==============================] - 0s 83ms/step - loss: 0.0100\n",
      "Epoch 92/100\n",
      "2/2 [==============================] - 0s 43ms/step - loss: 0.0100\n",
      "Epoch 93/100\n",
      "2/2 [==============================] - 0s 45ms/step - loss: 0.0099\n",
      "Epoch 94/100\n",
      "2/2 [==============================] - 0s 47ms/step - loss: 0.0100\n",
      "Epoch 95/100\n",
      "2/2 [==============================] - 0s 45ms/step - loss: 0.0100\n",
      "Epoch 96/100\n",
      "2/2 [==============================] - 0s 49ms/step - loss: 0.0099\n",
      "Epoch 97/100\n",
      "2/2 [==============================] - 0s 48ms/step - loss: 0.0099\n",
      "Epoch 98/100\n",
      "2/2 [==============================] - 0s 50ms/step - loss: 0.0099\n",
      "Epoch 99/100\n",
      "2/2 [==============================] - 0s 67ms/step - loss: 0.0099\n",
      "Epoch 100/100\n",
      "2/2 [==============================] - 0s 53ms/step - loss: 0.0099\n"
     ]
    },
    {
     "data": {
      "text/plain": [
       "<keras.callbacks.History at 0x281c16a10>"
      ]
     },
     "execution_count": 27,
     "metadata": {},
     "output_type": "execute_result"
    }
   ],
   "source": [
    "#fit\n",
    "model.fit(video, video, epochs=100, batch_size=32)"
   ]
  },
  {
   "cell_type": "code",
   "execution_count": 28,
   "metadata": {},
   "outputs": [
    {
     "name": "stdout",
     "output_type": "stream",
     "text": [
      "2/2 [==============================] - 0s 16ms/step\n"
     ]
    },
    {
     "data": {
      "text/plain": [
       "<matplotlib.animation.FuncAnimation at 0x287725090>"
      ]
     },
     "execution_count": 28,
     "metadata": {},
     "output_type": "execute_result"
    }
   ],
   "source": [
    "pred_video = model.predict(video)\n",
    "animate_video(pred_video)"
   ]
  },
  {
   "cell_type": "code",
   "execution_count": 16,
   "metadata": {},
   "outputs": [
    {
     "data": {
      "text/plain": [
       "(50, 200, 200, 1)"
      ]
     },
     "execution_count": 16,
     "metadata": {},
     "output_type": "execute_result"
    }
   ],
   "source": [
    "pred_video.shape"
   ]
  },
  {
   "cell_type": "code",
   "execution_count": 17,
   "metadata": {},
   "outputs": [
    {
     "data": {
      "text/plain": [
       "(50, 200, 200)"
      ]
     },
     "execution_count": 17,
     "metadata": {},
     "output_type": "execute_result"
    }
   ],
   "source": [
    "video.shape"
   ]
  },
  {
   "cell_type": "code",
   "execution_count": null,
   "metadata": {},
   "outputs": [],
   "source": []
  }
 ],
 "metadata": {
  "kernelspec": {
   "display_name": "SciComp",
   "language": "python",
   "name": "python3"
  },
  "language_info": {
   "codemirror_mode": {
    "name": "ipython",
    "version": 3
   },
   "file_extension": ".py",
   "mimetype": "text/x-python",
   "name": "python",
   "nbconvert_exporter": "python",
   "pygments_lexer": "ipython3",
   "version": "3.11.5"
  }
 },
 "nbformat": 4,
 "nbformat_minor": 2
}
