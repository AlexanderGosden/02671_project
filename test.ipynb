{
 "cells": [
  {
   "cell_type": "code",
   "execution_count": 17,
   "metadata": {},
   "outputs": [],
   "source": [
    "import numpy as np\n",
    "import matplotlib.pyplot as plt\n",
    "import matplotlib.animation as animation\n",
    "from math import floor, ceil\n",
    "\n",
    "\n",
    "def boximage(box_width, box_height, width = 200, height = 200, center = None):\n",
    "    if center is None:\n",
    "        center = ((height-1)/2, (width-1)/2)\n",
    "\n",
    "\n",
    "    im = np.zeros((height, width, 1), dtype=np.uint8)\n",
    "\n",
    "    y_start = max(center[0]-box_height/2, 0)\n",
    "    y_end = min(center[0]+box_height/2, height-1)\n",
    "\n",
    "    x_start = max(center[1]-box_width/2, 0)\n",
    "    x_end = min(center[1]+box_width/2, width-1)\n",
    "\n",
    "    # Draw the edges\n",
    "    im[floor(y_start), ceil(x_start):floor(x_end+1)] = 255*(ceil(y_start)-y_start)\n",
    "    im[ceil(y_end), ceil(x_start):floor(x_end+1)] = 255*(y_end - floor(y_end))\n",
    "    im[ceil(y_start):floor(y_end+1), floor(x_start)] = 255*(ceil(x_start) - x_start)\n",
    "    im[ceil(y_start):floor(y_end+1), ceil(x_end)] = 255*(x_end - floor(x_end))\n",
    "\n",
    "    # Draw the four corners\n",
    "    im[floor(y_start), floor(x_start)] = 255*(ceil(y_start) - y_start)*(ceil(x_start) - x_start)\n",
    "    im[floor(y_start), ceil(x_end)] = 255*(ceil(y_start) - y_start)*(x_end - floor(x_end))\n",
    "    im[ceil(y_end), floor(x_start)] = 255*(y_end - floor(y_end))*(ceil(x_start) - x_start)\n",
    "    im[ceil(y_end), ceil(x_end)] = 255*(y_end - floor(y_end))*(x_end - floor(x_end))\n",
    "\n",
    "    # Fill the box\n",
    "    im[ceil(y_start):floor(y_end+1), ceil(x_start):floor(x_end+1)] = 255\n",
    "\n",
    "\n",
    "    return im\n",
    "\n",
    "box_widths = np.linspace(0, 100, 200)\n",
    "box_heights = np.linspace(10, 90, 200)\n",
    "center_x = np.linspace(0, 200, 200)\n",
    "center_y = np.linspace(0, 200, 200)\n",
    "video = np.array([boximage(box_width, box_height, center = (cx, cy)) for box_width, box_height, cx, cy in zip(box_widths, box_heights, center_x, center_y)])\n",
    "\n",
    "np.save('boxvideo.npy', video)\n",
    "\n",
    "#animate video with matplotlib.funcanimation\n",
    "def animate_video(video):\n",
    "    %matplotlib tk\n",
    "\n",
    "    fig, ax = plt.subplots(1, 1, figsize=(5, 10))\n",
    "\n",
    "    def animate(frame):\n",
    "        ax.clear()\n",
    "        ax.imshow(video[frame], cmap='gray')\n",
    "        ax.set_title(f'Frame {frame}')\n",
    "\n",
    "    ani = animation.FuncAnimation(fig, animate, frames=range(len(video)), interval=5, repeat=False)\n",
    "\n",
    "    return ani\n",
    "\n",
    "ani = animate_video(video)\n"
   ]
  },
  {
   "cell_type": "code",
   "execution_count": 16,
   "metadata": {},
   "outputs": [
    {
     "data": {
      "text/plain": [
       "(200, 200, 200, 1)"
      ]
     },
     "execution_count": 16,
     "metadata": {},
     "output_type": "execute_result"
    }
   ],
   "source": [
    "video.shape"
   ]
  },
  {
   "cell_type": "code",
   "execution_count": 63,
   "metadata": {},
   "outputs": [
    {
     "name": "stdout",
     "output_type": "stream",
     "text": [
      "Model: \"sequential_10\"\n",
      "_________________________________________________________________\n",
      " Layer (type)                Output Shape              Param #   \n",
      "=================================================================\n",
      " flatten_10 (Flatten)        (None, 40000)             0         \n",
      "                                                                 \n",
      " dense_40 (Dense)            (None, 400)               16000400  \n",
      "                                                                 \n",
      " dense_41 (Dense)            (None, 40)                16040     \n",
      "                                                                 \n",
      " dense_42 (Dense)            (None, 400)               16400     \n",
      "                                                                 \n",
      " dense_43 (Dense)            (None, 40000)             16040000  \n",
      "                                                                 \n",
      " reshape_10 (Reshape)        (None, 200, 200)          0         \n",
      "                                                                 \n",
      "=================================================================\n",
      "Total params: 32,072,840\n",
      "Trainable params: 32,072,840\n",
      "Non-trainable params: 0\n",
      "_________________________________________________________________\n"
     ]
    }
   ],
   "source": [
    "#autoencoder\n",
    "import keras\n",
    "from keras.models import Sequential\n",
    "\n",
    "from keras.layers import Conv2D, MaxPooling2D, UpSampling2D, Dense, Flatten, Reshape\n",
    "\n",
    "model = Sequential()\n",
    "model.add(Flatten())\n",
    "model.add(Dense(400))\n",
    "model.add(Dense(40))\n",
    "model.add(Dense(400))\n",
    "model.add(Dense(200*200))\n",
    "model.add(Reshape((200, 200)))\n",
    "model.compile(optimizer='adam', loss='mean_squared_error')\n",
    "model.build((None, 200, 200, 1))\n",
    "\n",
    "model.summary()"
   ]
  },
  {
   "cell_type": "code",
   "execution_count": 64,
   "metadata": {},
   "outputs": [
    {
     "name": "stdout",
     "output_type": "stream",
     "text": [
      "Epoch 1/100\n",
      "16/16 [==============================] - 1s 67ms/step - loss: 2952.3547\n",
      "Epoch 2/100\n",
      "16/16 [==============================] - 1s 58ms/step - loss: 544.0809\n",
      "Epoch 3/100\n",
      "16/16 [==============================] - 1s 57ms/step - loss: 227.3054\n",
      "Epoch 4/100\n",
      "16/16 [==============================] - 1s 59ms/step - loss: 147.8180\n",
      "Epoch 5/100\n",
      "16/16 [==============================] - 1s 57ms/step - loss: 111.2778\n",
      "Epoch 6/100\n",
      "16/16 [==============================] - 1s 59ms/step - loss: 98.3800\n",
      "Epoch 7/100\n",
      "16/16 [==============================] - 1s 57ms/step - loss: 87.1685\n",
      "Epoch 8/100\n",
      "16/16 [==============================] - 1s 60ms/step - loss: 74.4603\n",
      "Epoch 9/100\n",
      "16/16 [==============================] - 1s 57ms/step - loss: 66.4866\n",
      "Epoch 10/100\n",
      "16/16 [==============================] - 1s 56ms/step - loss: 59.2644\n",
      "Epoch 11/100\n",
      "16/16 [==============================] - 1s 56ms/step - loss: 52.9074\n",
      "Epoch 12/100\n",
      "16/16 [==============================] - 1s 57ms/step - loss: 48.9242\n",
      "Epoch 13/100\n",
      "16/16 [==============================] - 1s 57ms/step - loss: 44.4130\n",
      "Epoch 14/100\n",
      "16/16 [==============================] - 1s 65ms/step - loss: 39.8775\n",
      "Epoch 15/100\n",
      "16/16 [==============================] - 1s 62ms/step - loss: 36.0856\n",
      "Epoch 16/100\n",
      "16/16 [==============================] - 1s 62ms/step - loss: 33.1863\n",
      "Epoch 17/100\n",
      "16/16 [==============================] - 1s 58ms/step - loss: 30.6558\n",
      "Epoch 18/100\n",
      "16/16 [==============================] - 1s 57ms/step - loss: 28.7686\n",
      "Epoch 19/100\n",
      "16/16 [==============================] - 1s 59ms/step - loss: 28.7867\n",
      "Epoch 20/100\n",
      "16/16 [==============================] - 1s 59ms/step - loss: 27.1467\n",
      "Epoch 21/100\n",
      "16/16 [==============================] - 1s 61ms/step - loss: 26.5434\n",
      "Epoch 22/100\n",
      "16/16 [==============================] - 1s 58ms/step - loss: 25.3652\n",
      "Epoch 23/100\n",
      "16/16 [==============================] - 1s 57ms/step - loss: 25.0848\n",
      "Epoch 24/100\n",
      "16/16 [==============================] - 1s 60ms/step - loss: 28.4120\n",
      "Epoch 25/100\n",
      "16/16 [==============================] - 1s 58ms/step - loss: 26.6158\n",
      "Epoch 26/100\n",
      "16/16 [==============================] - 1s 57ms/step - loss: 22.4105\n",
      "Epoch 27/100\n",
      "16/16 [==============================] - 1s 57ms/step - loss: 23.2574\n",
      "Epoch 28/100\n",
      "16/16 [==============================] - 1s 59ms/step - loss: 24.7500\n",
      "Epoch 29/100\n",
      "16/16 [==============================] - 1s 59ms/step - loss: 18.7388\n",
      "Epoch 30/100\n",
      "16/16 [==============================] - 1s 63ms/step - loss: 17.3049\n",
      "Epoch 31/100\n",
      "16/16 [==============================] - 1s 77ms/step - loss: 16.1087\n",
      "Epoch 32/100\n",
      "16/16 [==============================] - 1s 65ms/step - loss: 15.2579\n",
      "Epoch 33/100\n",
      "16/16 [==============================] - 1s 61ms/step - loss: 14.2384\n",
      "Epoch 34/100\n",
      "16/16 [==============================] - 1s 61ms/step - loss: 13.3427\n",
      "Epoch 35/100\n",
      "16/16 [==============================] - 1s 62ms/step - loss: 13.2142\n",
      "Epoch 36/100\n",
      "16/16 [==============================] - 1s 60ms/step - loss: 12.5370\n",
      "Epoch 37/100\n",
      "16/16 [==============================] - 1s 58ms/step - loss: 12.4925\n",
      "Epoch 38/100\n",
      "16/16 [==============================] - 1s 59ms/step - loss: 11.8091\n",
      "Epoch 39/100\n",
      "16/16 [==============================] - 1s 64ms/step - loss: 11.2820\n",
      "Epoch 40/100\n",
      "16/16 [==============================] - 1s 60ms/step - loss: 11.0073\n",
      "Epoch 41/100\n",
      "16/16 [==============================] - 1s 61ms/step - loss: 10.7328\n",
      "Epoch 42/100\n",
      "16/16 [==============================] - 1s 59ms/step - loss: 10.2337\n",
      "Epoch 43/100\n",
      "16/16 [==============================] - 1s 70ms/step - loss: 9.9106\n",
      "Epoch 44/100\n",
      "16/16 [==============================] - 1s 64ms/step - loss: 9.7383\n",
      "Epoch 45/100\n",
      "16/16 [==============================] - 1s 60ms/step - loss: 9.4305\n",
      "Epoch 46/100\n",
      "16/16 [==============================] - 1s 61ms/step - loss: 9.2154\n",
      "Epoch 47/100\n",
      "16/16 [==============================] - 1s 68ms/step - loss: 9.0662\n",
      "Epoch 48/100\n",
      "16/16 [==============================] - 1s 62ms/step - loss: 8.7857\n",
      "Epoch 49/100\n",
      "16/16 [==============================] - 1s 60ms/step - loss: 8.4812\n",
      "Epoch 50/100\n",
      "16/16 [==============================] - 1s 62ms/step - loss: 8.3087\n",
      "Epoch 51/100\n",
      "16/16 [==============================] - 1s 61ms/step - loss: 8.3936\n",
      "Epoch 52/100\n",
      "16/16 [==============================] - 1s 62ms/step - loss: 8.4644\n",
      "Epoch 53/100\n",
      "16/16 [==============================] - 1s 66ms/step - loss: 7.9788\n",
      "Epoch 54/100\n",
      "16/16 [==============================] - 1s 64ms/step - loss: 7.4620\n",
      "Epoch 55/100\n",
      "16/16 [==============================] - 1s 67ms/step - loss: 7.1078\n",
      "Epoch 56/100\n",
      "16/16 [==============================] - 1s 60ms/step - loss: 6.8239\n",
      "Epoch 57/100\n",
      "16/16 [==============================] - 1s 62ms/step - loss: 6.5837\n",
      "Epoch 58/100\n",
      "16/16 [==============================] - 1s 62ms/step - loss: 6.3278\n",
      "Epoch 59/100\n",
      "16/16 [==============================] - 1s 64ms/step - loss: 6.1290\n",
      "Epoch 60/100\n",
      "16/16 [==============================] - 1s 62ms/step - loss: 6.0697\n",
      "Epoch 61/100\n",
      "16/16 [==============================] - 1s 60ms/step - loss: 8.4535\n",
      "Epoch 62/100\n",
      "16/16 [==============================] - 1s 64ms/step - loss: 8.6283\n",
      "Epoch 63/100\n",
      "16/16 [==============================] - 1s 65ms/step - loss: 10.9297\n",
      "Epoch 64/100\n",
      "16/16 [==============================] - 1s 60ms/step - loss: 8.0942\n",
      "Epoch 65/100\n",
      "16/16 [==============================] - 1s 61ms/step - loss: 6.1113\n",
      "Epoch 66/100\n",
      "16/16 [==============================] - 1s 59ms/step - loss: 5.2356\n",
      "Epoch 67/100\n",
      "16/16 [==============================] - 1s 60ms/step - loss: 5.7266\n",
      "Epoch 68/100\n",
      "16/16 [==============================] - 1s 64ms/step - loss: 4.9762\n",
      "Epoch 69/100\n",
      "16/16 [==============================] - 1s 63ms/step - loss: 4.6179\n",
      "Epoch 70/100\n",
      "16/16 [==============================] - 3s 173ms/step - loss: 4.5700\n",
      "Epoch 71/100\n",
      "16/16 [==============================] - 2s 119ms/step - loss: 4.3928\n",
      "Epoch 72/100\n",
      "16/16 [==============================] - 2s 130ms/step - loss: 4.0125\n",
      "Epoch 73/100\n",
      "16/16 [==============================] - 3s 156ms/step - loss: 3.8528\n",
      "Epoch 74/100\n",
      "16/16 [==============================] - 4s 230ms/step - loss: 3.7983\n",
      "Epoch 75/100\n",
      "16/16 [==============================] - 2s 107ms/step - loss: 3.7173\n",
      "Epoch 76/100\n",
      "16/16 [==============================] - 1s 75ms/step - loss: 3.7664\n",
      "Epoch 77/100\n",
      "16/16 [==============================] - 1s 69ms/step - loss: 3.7276\n",
      "Epoch 78/100\n",
      "16/16 [==============================] - 1s 69ms/step - loss: 4.1148\n",
      "Epoch 79/100\n",
      "16/16 [==============================] - 1s 64ms/step - loss: 3.8308\n",
      "Epoch 80/100\n",
      "16/16 [==============================] - 1s 66ms/step - loss: 3.4148\n",
      "Epoch 81/100\n",
      "16/16 [==============================] - 1s 64ms/step - loss: 3.2317\n",
      "Epoch 82/100\n",
      "16/16 [==============================] - 1s 72ms/step - loss: 2.9539\n",
      "Epoch 83/100\n",
      "16/16 [==============================] - 1s 63ms/step - loss: 3.6878\n",
      "Epoch 84/100\n",
      "16/16 [==============================] - 1s 58ms/step - loss: 5.6119\n",
      "Epoch 85/100\n",
      "16/16 [==============================] - 1s 60ms/step - loss: 4.5294\n",
      "Epoch 86/100\n",
      "16/16 [==============================] - 1s 62ms/step - loss: 3.8946\n",
      "Epoch 87/100\n",
      "16/16 [==============================] - 1s 66ms/step - loss: 4.0054\n",
      "Epoch 88/100\n",
      "16/16 [==============================] - 1s 63ms/step - loss: 3.2102\n",
      "Epoch 89/100\n",
      "16/16 [==============================] - 1s 69ms/step - loss: 3.4528\n",
      "Epoch 90/100\n",
      "16/16 [==============================] - 1s 64ms/step - loss: 2.8637\n",
      "Epoch 91/100\n",
      "16/16 [==============================] - 1s 60ms/step - loss: 4.3061\n",
      "Epoch 92/100\n",
      "16/16 [==============================] - 1s 63ms/step - loss: 8.8943\n",
      "Epoch 93/100\n",
      "16/16 [==============================] - 1s 62ms/step - loss: 15.0100\n",
      "Epoch 94/100\n",
      "16/16 [==============================] - 1s 64ms/step - loss: 17.7625\n",
      "Epoch 95/100\n",
      "16/16 [==============================] - 1s 61ms/step - loss: 9.8071\n",
      "Epoch 96/100\n",
      "16/16 [==============================] - 1s 68ms/step - loss: 9.4194\n",
      "Epoch 97/100\n",
      "16/16 [==============================] - 1s 63ms/step - loss: 12.2207\n",
      "Epoch 98/100\n",
      "16/16 [==============================] - 1s 65ms/step - loss: 8.2946\n",
      "Epoch 99/100\n",
      "16/16 [==============================] - 1s 62ms/step - loss: 13.9230\n",
      "Epoch 100/100\n",
      "16/16 [==============================] - 1s 63ms/step - loss: 20.1733\n"
     ]
    },
    {
     "data": {
      "text/plain": [
       "<keras.callbacks.History at 0x16a3915d0>"
      ]
     },
     "execution_count": 64,
     "metadata": {},
     "output_type": "execute_result"
    }
   ],
   "source": [
    "#fit\n",
    "model.fit(video, video, epochs=100, batch_size=32)"
   ]
  },
  {
   "cell_type": "code",
   "execution_count": 61,
   "metadata": {},
   "outputs": [
    {
     "name": "stdout",
     "output_type": "stream",
     "text": [
      "16/16 [==============================] - 0s 5ms/step\n"
     ]
    },
    {
     "data": {
      "text/plain": [
       "<matplotlib.animation.FuncAnimation at 0x168b23b50>"
      ]
     },
     "execution_count": 61,
     "metadata": {},
     "output_type": "execute_result"
    }
   ],
   "source": [
    "pred_video = model.predict(video)\n",
    "animate_video(pred_video)"
   ]
  },
  {
   "cell_type": "code",
   "execution_count": null,
   "metadata": {},
   "outputs": [],
   "source": [
    "pred_video.shape"
   ]
  },
  {
   "cell_type": "code",
   "execution_count": null,
   "metadata": {},
   "outputs": [],
   "source": [
    "video.shape"
   ]
  },
  {
   "cell_type": "markdown",
   "metadata": {},
   "source": [
    "# Import saved AE"
   ]
  },
  {
   "cell_type": "code",
   "execution_count": 5,
   "metadata": {},
   "outputs": [
    {
     "data": {
      "text/plain": [
       "<All keys matched successfully>"
      ]
     },
     "execution_count": 5,
     "metadata": {},
     "output_type": "execute_result"
    }
   ],
   "source": [
    "from src.models.AE import Encoder, Decoder, AE\n",
    "from src.utils.misc import load_config, animate_video\n",
    "import torch\n",
    "\n",
    "def build_model(model_type: str, CFG, device: str):\n",
    "    H = CFG['data']['H']\n",
    "    W = CFG['data']['W']\n",
    "    latent_dim = CFG['AE']['D']\n",
    "    if model_type == 'AutoEncoder':\n",
    "        encoder = Encoder(H, W, latent_dim)\n",
    "        decoder = Decoder(H, W, latent_dim)\n",
    "        model = AE(encoder, decoder)\n",
    "    else:\n",
    "        raise ValueError(f\"Unsupported model type: {model_type}\")\n",
    "    return model\n",
    "\n",
    "\n",
    "\n",
    "CFG = load_config('configs/config.yaml')\n",
    "device = ('cuda' if torch.cuda.is_available() else 'cpu')\n",
    "model = build_model('AutoEncoder', {'data': {'H': 200, 'W': 200}, 'AE': {'D': 40}}, 'cpu')\n",
    "model.load_state_dict(torch.load('data/model_weights/AutoEncoder_weights.pt', map_location=device))\n",
    "\n"
   ]
  },
  {
   "cell_type": "markdown",
   "metadata": {},
   "source": [
    "# Perform frame interpolation\n"
   ]
  },
  {
   "cell_type": "code",
   "execution_count": 6,
   "metadata": {},
   "outputs": [],
   "source": [
    "def interpolate_linear(observed_times, new_times, states):\n",
    "    new_states = np.zeros((len(new_times), *states.shape[1:]))\n",
    "\n",
    "    for time in new_times:\n",
    "        # find the two closest observed times\n",
    "        idx = np.searchsorted(observed_times, time)\n",
    "        if idx == 0:\n",
    "            new_states[time] = states[0]\n",
    "        elif idx == len(observed_times):\n",
    "            new_states[time] = states[-1]\n",
    "        else:\n",
    "            # linearly interpolate between the two closest observed times\n",
    "            alpha = (time - observed_times[idx-1]) / (observed_times[idx] - observed_times[idx-1])\n",
    "            new_states[time] = alpha * states[idx] + (1 - alpha) * states[idx-1]\n",
    "\n",
    "    return new_states\n",
    "\n",
    "\n",
    "interpolated_video = interpolate_linear(np.arange(len(video)), np.arange(0, len(video), 0.1), video)\n"
   ]
  },
  {
   "cell_type": "markdown",
   "metadata": {},
   "source": []
  }
 ],
 "metadata": {
  "kernelspec": {
   "display_name": "SciComp",
   "language": "python",
   "name": "python3"
  },
  "language_info": {
   "codemirror_mode": {
    "name": "ipython",
    "version": 3
   },
   "file_extension": ".py",
   "mimetype": "text/x-python",
   "name": "python",
   "nbconvert_exporter": "python",
   "pygments_lexer": "ipython3",
   "version": "3.11.5"
  }
 },
 "nbformat": 4,
 "nbformat_minor": 2
}
